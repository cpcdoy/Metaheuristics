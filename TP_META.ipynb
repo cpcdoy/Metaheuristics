{
 "cells": [
  {
   "cell_type": "markdown",
   "metadata": {},
   "source": [
    "# TP de méta-heuristiques\n",
    "## Algorithme du recuit simulé - Problème de placement de composants éléctroniques\n",
    "\n",
    "Ce notebook présente l'utilisation de l'algorithme du recuit simulé pour résoudre l'optimisation du placement de composants éléctroniques."
   ]
  },
  {
   "cell_type": "markdown",
   "metadata": {},
   "source": [
    "La première cellule génère un tableau représentant le placement optimal pour les composants et de dimension 5x5."
   ]
  },
  {
   "cell_type": "code",
   "execution_count": 2,
   "metadata": {},
   "outputs": [
    {
     "name": "stdout",
     "output_type": "stream",
     "text": [
      "[[(1, 1) (1, 2) (1, 3) (1, 4) (1, 5)]\n",
      " [(2, 1) (2, 2) (2, 3) (2, 4) (2, 5)]\n",
      " [(3, 1) (3, 2) (3, 3) (3, 4) (3, 5)]\n",
      " [(4, 1) (4, 2) (4, 3) (4, 4) (4, 5)]\n",
      " [(5, 1) (5, 2) (5, 3) (5, 4) (5, 5)]]\n"
     ]
    }
   ],
   "source": [
    "import numpy as np\n",
    "# Generation of organized array where each cell contain the her indice as a value \n",
    "b = [[(i,j) for j in range(1,6)] for i in range(1,6)]\n",
    "a = np.array([[(i,j) for j in range(1,6)]for i in range(1,6)], dtype = [('x','<i4'),('y','<i4')])\n",
    "\n",
    "print(a)"
   ]
  },
  {
   "cell_type": "markdown",
   "metadata": {},
   "source": [
    "### Fonction _getNeighs_\n",
    "\n",
    "Cette fonction retourne les voisins de la cellule passée en paramètre (colomne i, ligne j) dans la matrice.\n",
    "\n",
    "### Fonction _drawState_\n",
    "\n",
    "Cette fonction affiche à l'écran l'état de la matrice passée en argument."
   ]
  },
  {
   "cell_type": "code",
   "execution_count": 4,
   "metadata": {},
   "outputs": [],
   "source": [
    "import matplotlib.pyplot as plt\n",
    "import matplotlib.patches as patches\n",
    "def getNeighs(i,j, Matrix):\n",
    "    neigh = []\n",
    "    x = Matrix[i][j][0]\n",
    "    y = Matrix[i][j][1]\n",
    "    #print((x,y))\n",
    "    n = Matrix.shape[0]\n",
    "    for p in [-1,0, 1]:\n",
    "        for k in [-1, 0,1]:\n",
    "          if (abs(p) + abs(k) < 2) :\n",
    "             # print(x,y,p,k)\n",
    "              for l in range(n):\n",
    "                  for e in range(n):\n",
    "                      if ((((p + y) > 0) and (p + y <= n)) and (((k + x) > 0) and (k + x <= n))): \n",
    "                        if ((Matrix[l][e][0] == k + x) and  (Matrix[l][e][1] == p + y)):\n",
    "                          neigh.append((l +1, e +1))\n",
    "    return neigh\n",
    "def draw_state(s):\n",
    "    n = len(s)\n",
    "    w = 1\n",
    "    h = 1\n",
    "    fig1 = plt.figure()\n",
    "    for i in range(1,n + 1):\n",
    "        for j in range(1, n + 1):\n",
    "          ax1 = fig1.add_subplot(111, aspect='equal')\n",
    "          ax1.add_patch(patches.Rectangle((i - w/4, j - h/4),w/2, h/2, fill = False))\n",
    "          neighs = getNeighs(i - 1, j - 1, s)\n",
    "          for cell in neighs:\n",
    "            plt.plot([i, cell[0]  ], [j, cell[1]  ], 'k-', lw=2)\n",
    "\n",
    "    ax1.set_axisbelow(True)\n",
    "    ax1.xaxis.set_ticks_position(\"top\")\n",
    "# Customize the grid\n",
    "\n",
    "#plt.plot([2, 1], [2, 10], 'k-', lw=1)\n",
    "    ax1.grid(linestyle='-', linewidth='0.5', color='red')\n",
    "    fig1.savefig('rect1.png', dpi=90, bbox_inches='tight')\n",
    "    plt.xticks([i + 1 for i in range(n)])\n",
    "    plt.yticks([i + 1 for i in range(n)])\n",
    "    plt.axis([0, n + 1, 0, n + 1])\n",
    "    plt.gca().invert_yaxis()\n",
    "    plt.show()"
   ]
  },
  {
   "cell_type": "markdown",
   "metadata": {},
   "source": [
    "### Fonction _getList_\n",
    "\n",
    "Cette fonction est utilisée pour récupérer les états intmermédiaires avec une énergie décroissante jusqu'à atteindre l'optimum."
   ]
  },
  {
   "cell_type": "code",
   "execution_count": 5,
   "metadata": {},
   "outputs": [],
   "source": [
    "def getList(mat):\n",
    "    (n,m) = mat.shape  \n",
    "    M =  (n * (m - 1) + m * (n - 1)) * 5\n",
    "    step = int(M / 5)\n",
    "    L = [i for i in range(2 * M, M - step, - step)]\n",
    "    return L"
   ]
  },
  {
   "cell_type": "code",
   "execution_count": 6,
   "metadata": {},
   "outputs": [
    {
     "data": {
      "text/plain": [
       "[400, 360, 320, 280, 240, 200]"
      ]
     },
     "execution_count": 6,
     "metadata": {},
     "output_type": "execute_result"
    }
   ],
   "source": [
    "getList(a)"
   ]
  },
  {
   "cell_type": "markdown",
   "metadata": {},
   "source": [
    "### Fonction _randomStateNeigh_\n",
    "\n",
    "Cette fonction change la position des éléments de façon aléatoire dans la matrice passée en argument.\n",
    "\n",
    "### Fonction _distCells_\n",
    "\n",
    "Cette fonction calcul la distance entre deux cellule dans la matrice courante. La constante 5 correspond à l'estimation de l'énergie par arrête donnée par le sujet.\n",
    "\n",
    "### Fonction _energySys_\n",
    "\n",
    "Cette fonction calcul la distance totale de toutes les lignes et de toutes les colomnes de la matrice. Si deux éléments sont côtes à côte alors qu'il ne devraient pas, alors la distance totale L sera augmantée. Le problème se résume alors à minimiser cette distance L.\n",
    "\n",
    "### Fonction _MetRcS_\n",
    "\n",
    "Cette fonction contient la boucle principale du programme. A chaque itération, deux voisins seront changés aléatoirement. Si cette permutation permet de faire baisser lénergie du système alors celle-ci est conservée.\n",
    "\n",
    "Au contraire, si celle-ci fait augmanter l'énergie du système, alors elle n'est conservée qu'en fonction d'une loi de probabilité exponentielle, fonction de la température du système. Cette probabilité permet de donner de la souplesse au système tout en l'empechant de diverger lorsqu'il se rapproche de l'optimal. En effet, la loi exponentielle étant fortement décroissante, les états à plus forte énéergie seront plus difficilement acceptés après un certain temps.\n",
    "\n",
    "La température est déterminée au début du programme en fonction de son énergie initiale et contrôle la diminution de probabilité au cours de la convergence."
   ]
  },
  {
   "cell_type": "code",
   "execution_count": 13,
   "metadata": {},
   "outputs": [],
   "source": [
    "import random\n",
    "import math\n",
    "def randomStateNeigh(Matrix):\n",
    "    n = Matrix.shape[0]\n",
    "    m = Matrix.shape[1]\n",
    "    i = random.randint(0, n - 1)\n",
    "    j = random.randint(0, m - 1)\n",
    "    cel = Matrix[i][j].copy()\n",
    "    randx = np.random.choice([-1, 0,1])\n",
    "    randy = np.random.choice([-1, 0,1])\n",
    "    while( ((j + randx) < 0) or ((j + randx) >= m) ):\n",
    "        randx = np.random.choice([-1,0,1])\n",
    "    while( ((i + randy) < 0) or ((i + randy) >= n) ):\n",
    "        randy = np.random.choice([-1,0 ,1])\n",
    "    Matrix[i][j] = Matrix[randy + i][randx + j].copy()\n",
    "    Matrix[randy + i][randx + j] = cel.copy()\n",
    "    return Matrix\n",
    "def distCells(cel1, cel2):\n",
    "    cel1y = cel1[1]\n",
    "    cel1x = cel1[0]\n",
    "    cel2y = cel2[1]\n",
    "    cel2x = cel2[0]\n",
    "    return 5 * int(np.abs((cel1x - cel2x))+ np.abs((cel1y - cel2y)))\n",
    "def energySys(matrix):\n",
    "    n = matrix.shape[0]\n",
    "    m = matrix.shape[1]\n",
    "    L = 0\n",
    "    for i in range(n):\n",
    "      for j in range(m - 1):\n",
    "        L += distCells(matrix[i][j], matrix[i][j + 1])\n",
    "    for j in range(m):\n",
    "      for i in range(n - 1):\n",
    "        L += distCells(matrix[i][j], matrix[i + 1][j])\n",
    "    return L\n",
    "def MetRcS(randMatrix, emin):\n",
    "    #print('hh')\n",
    "    L = getList(randMatrix)\n",
    "    print(L)\n",
    "    idxL = 0\n",
    "    s = randMatrix.copy()\n",
    "   # s = randMatrix.copy()\n",
    "    sk = s\n",
    "    e = energySys(s)\n",
    "    ek = e\n",
    "    k = 1\n",
    "    m = [np.abs(energySys(s) - energySys(randomStateNeigh(s.copy()))) for i in range(100)]\n",
    "    delta = np.mean(m)\n",
    "    T = delta / math.log(2)\n",
    "    acc = 0\n",
    "    tried = 0\n",
    "    n = randMatrix.shape[0]\n",
    "    while ((e > emin) and (k < 100000)):\n",
    "        sk = randomStateNeigh(s.copy())\n",
    "        ek = energySys(sk)\n",
    "        if ((idxL < len(L)) and (ek <= L[idxL])):\n",
    "          draw_state(sk)\n",
    "          idxL += 1  \n",
    "          print(\"energy\",ek)\n",
    "          print('temp ', T)\n",
    "        if ((ek < e) or (random.random() <= math.exp(- abs((ek - e))/ T ))):\n",
    "          s = sk.copy()\n",
    "          e = ek\n",
    "          acc += acc\n",
    "        tried = tried + 1\n",
    "        if ((tried == 100 * n) or (acc == 12 * n)):\n",
    "          #print(ek)\n",
    "          #print('temp ', T)\n",
    "          T = T * 0.999\n",
    "          acc = 0\n",
    "          tried = 0\n",
    "          k = 0\n",
    "        k = k + 1\n",
    "    return s\n",
    "            "
   ]
  },
  {
   "cell_type": "markdown",
   "metadata": {},
   "source": [
    "Le cellule suivante copie la matrice d'exemple a du début du TP et la rend aléatoire à l'aide de la fonction _randomStateNeigh_ vue précédemment."
   ]
  },
  {
   "cell_type": "code",
   "execution_count": 17,
   "metadata": {},
   "outputs": [
    {
     "data": {
      "text/plain": [
       "array([[(1, 1), (2, 2), (1, 3), (1, 4), (1, 5)],\n",
       "       [(2, 1), (1, 2), (2, 3), (2, 4), (2, 5)],\n",
       "       [(3, 1), (3, 2), (3, 3), (3, 4), (3, 5)],\n",
       "       [(4, 1), (4, 2), (4, 3), (4, 4), (4, 5)],\n",
       "       [(5, 1), (5, 2), (5, 3), (5, 4), (5, 5)]],\n",
       "      dtype=[('x', '<i4'), ('y', '<i4')])"
      ]
     },
     "execution_count": 17,
     "metadata": {},
     "output_type": "execute_result"
    }
   ],
   "source": [
    "b = a.copy()\n",
    "randomStateNeigh(b)\n",
    "b  "
   ]
  },
  {
   "cell_type": "markdown",
   "metadata": {},
   "source": [
    "Le cellule suivante prrésente différentes itérations de l'algorithme jusqu'à atteindre l'état optimal."
   ]
  },
  {
   "cell_type": "code",
   "execution_count": 18,
   "metadata": {
    "scrolled": false
   },
   "outputs": [
    {
     "name": "stdout",
     "output_type": "stream",
     "text": [
      "225\n",
      "[400, 360, 320, 280, 240, 200]\n"
     ]
    },
    {
     "data": {
      "image/png": "[encoded data removed]",
      "text/plain": [
       "<matplotlib.figure.Figure at 0x7f3c1c1be7f0>"
      ]
     },
     "metadata": {},
     "output_type": "display_data"
    },
    {
     "name": "stdout",
     "output_type": "stream",
     "text": [
      "energy 255\n",
      "temp  26.9783972646\n"
     ]
    },
    {
     "data": {
      "image/png": "[encoded data removed]",
      "text/plain": [
       "<matplotlib.figure.Figure at 0x7f3c0ebfef28>"
      ]
     },
     "metadata": {},
     "output_type": "display_data"
    },
    {
     "name": "stdout",
     "output_type": "stream",
     "text": [
      "energy 255\n",
      "temp  26.9783972646\n"
     ]
    },
    {
     "data": {
      "image/png": "[encoded data removed]",
      "text/plain": [
       "<matplotlib.figure.Figure at 0x7f3c0ebe1c88>"
      ]
     },
     "metadata": {},
     "output_type": "display_data"
    },
    {
     "name": "stdout",
     "output_type": "stream",
     "text": [
      "energy 235\n",
      "temp  26.9783972646\n"
     ]
    },
    {
     "data": {
      "image/png": "[encoded data removed]",
      "text/plain": [
       "<matplotlib.figure.Figure at 0x7f3c0ee5d748>"
      ]
     },
     "metadata": {},
     "output_type": "display_data"
    },
    {
     "name": "stdout",
     "output_type": "stream",
     "text": [
      "energy 265\n",
      "temp  26.9783972646\n"
     ]
    },
    {
     "data": {
      "image/png": "[encoded data removed]",
      "text/plain": [
       "<matplotlib.figure.Figure at 0x7f3c0ed63198>"
      ]
     },
     "metadata": {},
     "output_type": "display_data"
    },
    {
     "name": "stdout",
     "output_type": "stream",
     "text": [
      "energy 240\n",
      "temp  6.90575408955\n"
     ]
    },
    {
     "data": {
      "image/png": "[encoded data removed]",
      "text/plain": [
       "<matplotlib.figure.Figure at 0x7f3c0e764160>"
      ]
     },
     "metadata": {},
     "output_type": "display_data"
    },
    {
     "name": "stdout",
     "output_type": "stream",
     "text": [
      "energy 200\n",
      "temp  6.40012143721\n",
      "[[(5, 5) (5, 4) (5, 3) (5, 2) (5, 1)]\n",
      " [(4, 5) (4, 4) (4, 3) (4, 2) (4, 1)]\n",
      " [(3, 5) (3, 4) (3, 3) (3, 2) (3, 1)]\n",
      " [(2, 5) (2, 4) (2, 3) (2, 2) (2, 1)]\n",
      " [(1, 5) (1, 4) (1, 3) (1, 2) (1, 1)]]\n"
     ]
    }
   ],
   "source": [
    "b = a.copy()\n",
    "randomStateNeigh(b)\n",
    "print(energySys(b))\n",
    "d = MetRcS(b, 200)\n",
    "print(d)"
   ]
  }
 ],
 "metadata": {
  "kernelspec": {
   "display_name": "Python 3",
   "language": "python",
   "name": "python3"
  },
  "language_info": {
   "codemirror_mode": {
    "name": "ipython",
    "version": 3
   },
   "file_extension": ".py",
   "mimetype": "text/x-python",
   "name": "python",
   "nbconvert_exporter": "python",
   "pygments_lexer": "ipython3",
   "version": "3.6.2"
  }
 },
 "nbformat": 4,
 "nbformat_minor": 2
}
